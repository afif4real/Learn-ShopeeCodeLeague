{
  "nbformat": 4,
  "nbformat_minor": 0,
  "metadata": {
    "colab": {
      "name": "Copy of LCCL Array Experiments.ipynb",
      "provenance": [],
      "collapsed_sections": []
    },
    "kernelspec": {
      "name": "python3",
      "display_name": "Python 3"
    }
  },
  "cells": [
    {
      "cell_type": "markdown",
      "metadata": {
        "id": "yvzBPYiEDYcr"
      },
      "source": [
        "# Array Experiments"
      ]
    },
    {
      "cell_type": "markdown",
      "metadata": {
        "id": "woqv7aDYDboD"
      },
      "source": [
        "Compare the time needed to remove from the back vs removing from the front vs removing from the middle for lists of length 10, 100, 1000, 10000."
      ]
    },
    {
      "cell_type": "code",
      "metadata": {
        "id": "hK13uZE6DWzZ",
        "colab": {
          "base_uri": "https://localhost:8080/"
        },
        "outputId": "594d7d19-3176-41e7-ad88-d61b9f096bee"
      },
      "source": [
        "from timeit import repeat\n",
        "\n",
        "# Pop from front\n",
        "setup = '''\n",
        "n = 1000\n",
        "a = [0]*n\n",
        "'''\n",
        "\n",
        "code = '''\n",
        "n = a.pop(n // 2)\n",
        "'''\n",
        "\n",
        "min(repeat(stmt=code, setup=setup, repeat=100, number=1))"
      ],
      "execution_count": 19,
      "outputs": [
        {
          "output_type": "execute_result",
          "data": {
            "text/plain": [
              "3.0400008199649164e-07"
            ]
          },
          "metadata": {
            "tags": []
          },
          "execution_count": 19
        }
      ]
    },
    {
      "cell_type": "code",
      "metadata": {
        "colab": {
          "base_uri": "https://localhost:8080/"
        },
        "id": "bL8JQiUX81Sn",
        "outputId": "341a0bef-2049-485d-c1f2-cedd5cedf8bb"
      },
      "source": [
        "sequence = [1, 2, 3, 4, 5, 6, 7, 8, 9, 10]\n",
        "stack = []\n",
        "opening = {']' : '[', '}' : '{', ')' : '('}\n",
        "for i, c in enumerate(sequence):\n",
        "  if c == ' ':\n",
        "    pass\n",
        "  elif c in opening.values(): #if open delim\n",
        "    stack.append(c)           # push to stack\n",
        "  #must be closing delim\n",
        "  elif len(stack) == 0 or opening[c] != stack[-1]:\n",
        "    #case where stack is empty or stack top doesnt match\n",
        "    print(c, i)\n",
        "    break\n",
        "  else:\n",
        "    # case where stack top matches\n",
        "    stack.pop\n",
        "else:\n",
        "  print('so far ok')\n",
        "\n",
        "  "
      ],
      "execution_count": 27,
      "outputs": [
        {
          "output_type": "stream",
          "text": [
            "1 0\n"
          ],
          "name": "stdout"
        }
      ]
    },
    {
      "cell_type": "code",
      "metadata": {
        "id": "8jpFBSxL_q0a"
      },
      "source": [
        ""
      ],
      "execution_count": null,
      "outputs": []
    }
  ]
}