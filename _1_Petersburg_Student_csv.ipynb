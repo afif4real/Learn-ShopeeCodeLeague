{
  "nbformat": 4,
  "nbformat_minor": 0,
  "metadata": {
    "colab": {
      "name": "#1-Petersburg-Student.csv",
      "provenance": [],
      "collapsed_sections": []
    },
    "kernelspec": {
      "name": "python3",
      "display_name": "Python 3"
    }
  },
  "cells": [
    {
      "cell_type": "code",
      "metadata": {
        "id": "O1XrKqkaPW87"
      },
      "source": [
        "import pandas as pd"
      ],
      "execution_count": null,
      "outputs": []
    },
    {
      "cell_type": "code",
      "metadata": {
        "colab": {
          "base_uri": "https://localhost:8080/",
          "height": 419
        },
        "id": "9rbMtxsiPhWp",
        "outputId": "8571a72e-f28b-421a-d8f3-f032ada63d5d"
      },
      "source": [
        "df=pd.read_json(\"/content/sample_data/contacts.json\")\n",
        "df"
      ],
      "execution_count": 49,
      "outputs": [
        {
          "output_type": "execute_result",
          "data": {
            "text/html": [
              "<div>\n",
              "<style scoped>\n",
              "    .dataframe tbody tr th:only-of-type {\n",
              "        vertical-align: middle;\n",
              "    }\n",
              "\n",
              "    .dataframe tbody tr th {\n",
              "        vertical-align: top;\n",
              "    }\n",
              "\n",
              "    .dataframe thead th {\n",
              "        text-align: right;\n",
              "    }\n",
              "</style>\n",
              "<table border=\"1\" class=\"dataframe\">\n",
              "  <thead>\n",
              "    <tr style=\"text-align: right;\">\n",
              "      <th></th>\n",
              "      <th>Id</th>\n",
              "      <th>Email</th>\n",
              "      <th>Phone</th>\n",
              "      <th>Contacts</th>\n",
              "      <th>OrderId</th>\n",
              "    </tr>\n",
              "  </thead>\n",
              "  <tbody>\n",
              "    <tr>\n",
              "      <th>0</th>\n",
              "      <td>0</td>\n",
              "      <td>gkzAbIy@qq.com</td>\n",
              "      <td></td>\n",
              "      <td>1</td>\n",
              "      <td></td>\n",
              "    </tr>\n",
              "    <tr>\n",
              "      <th>1</th>\n",
              "      <td>1</td>\n",
              "      <td></td>\n",
              "      <td>329442681752</td>\n",
              "      <td>4</td>\n",
              "      <td>vDDJJcxfLtSfkooPhbYnJdxov</td>\n",
              "    </tr>\n",
              "    <tr>\n",
              "      <th>2</th>\n",
              "      <td>2</td>\n",
              "      <td></td>\n",
              "      <td>9125983679</td>\n",
              "      <td>0</td>\n",
              "      <td></td>\n",
              "    </tr>\n",
              "    <tr>\n",
              "      <th>3</th>\n",
              "      <td>3</td>\n",
              "      <td>mdllpYmE@gmail.com</td>\n",
              "      <td></td>\n",
              "      <td>0</td>\n",
              "      <td>bHquEnCbbsGLqllwryxPsNOxa</td>\n",
              "    </tr>\n",
              "    <tr>\n",
              "      <th>4</th>\n",
              "      <td>4</td>\n",
              "      <td></td>\n",
              "      <td>300364407</td>\n",
              "      <td>2</td>\n",
              "      <td></td>\n",
              "    </tr>\n",
              "    <tr>\n",
              "      <th>...</th>\n",
              "      <td>...</td>\n",
              "      <td>...</td>\n",
              "      <td>...</td>\n",
              "      <td>...</td>\n",
              "      <td>...</td>\n",
              "    </tr>\n",
              "    <tr>\n",
              "      <th>499995</th>\n",
              "      <td>499995</td>\n",
              "      <td></td>\n",
              "      <td>10072395382</td>\n",
              "      <td>2</td>\n",
              "      <td>whJlUOGNqjxCRzmIRdURQvlNv</td>\n",
              "    </tr>\n",
              "    <tr>\n",
              "      <th>499996</th>\n",
              "      <td>499996</td>\n",
              "      <td></td>\n",
              "      <td>571709661031</td>\n",
              "      <td>4</td>\n",
              "      <td>JqIXOONvrwvJxZqNxCYHqnrKS</td>\n",
              "    </tr>\n",
              "    <tr>\n",
              "      <th>499997</th>\n",
              "      <td>499997</td>\n",
              "      <td></td>\n",
              "      <td>4541459979</td>\n",
              "      <td>2</td>\n",
              "      <td>beXCZSzcHaBwAYoDcpQqjuAFO</td>\n",
              "    </tr>\n",
              "    <tr>\n",
              "      <th>499998</th>\n",
              "      <td>499998</td>\n",
              "      <td>RzSDsyH@hotmail.com</td>\n",
              "      <td>98947185431</td>\n",
              "      <td>1</td>\n",
              "      <td>ehjeFACGiwrERQxbziMxwOWku</td>\n",
              "    </tr>\n",
              "    <tr>\n",
              "      <th>499999</th>\n",
              "      <td>499999</td>\n",
              "      <td></td>\n",
              "      <td>880053388839</td>\n",
              "      <td>0</td>\n",
              "      <td>JibSBRgzYdfzkzbTuGUXrcvDX</td>\n",
              "    </tr>\n",
              "  </tbody>\n",
              "</table>\n",
              "<p>500000 rows × 5 columns</p>\n",
              "</div>"
            ],
            "text/plain": [
              "            Id                Email  ... Contacts                    OrderId\n",
              "0            0       gkzAbIy@qq.com  ...        1                           \n",
              "1            1                       ...        4  vDDJJcxfLtSfkooPhbYnJdxov\n",
              "2            2                       ...        0                           \n",
              "3            3   mdllpYmE@gmail.com  ...        0  bHquEnCbbsGLqllwryxPsNOxa\n",
              "4            4                       ...        2                           \n",
              "...        ...                  ...  ...      ...                        ...\n",
              "499995  499995                       ...        2  whJlUOGNqjxCRzmIRdURQvlNv\n",
              "499996  499996                       ...        4  JqIXOONvrwvJxZqNxCYHqnrKS\n",
              "499997  499997                       ...        2  beXCZSzcHaBwAYoDcpQqjuAFO\n",
              "499998  499998  RzSDsyH@hotmail.com  ...        1  ehjeFACGiwrERQxbziMxwOWku\n",
              "499999  499999                       ...        0  JibSBRgzYdfzkzbTuGUXrcvDX\n",
              "\n",
              "[500000 rows x 5 columns]"
            ]
          },
          "metadata": {
            "tags": []
          },
          "execution_count": 49
        }
      ]
    },
    {
      "cell_type": "code",
      "metadata": {
        "colab": {
          "base_uri": "https://localhost:8080/"
        },
        "id": "WpIQ2hdAWsUz",
        "outputId": "651e06ee-35eb-4723-a38b-f49775e7ffef"
      },
      "source": [
        "a = pd.DataFrame(df, columns= [\"Id\", \"Email\", \"Phone\", \"Contacts\", \"OrderId\"])\n",
        "print(a)"
      ],
      "execution_count": 50,
      "outputs": [
        {
          "output_type": "stream",
          "text": [
            "            Id                Email  ... Contacts                    OrderId\n",
            "0            0       gkzAbIy@qq.com  ...        1                           \n",
            "1            1                       ...        4  vDDJJcxfLtSfkooPhbYnJdxov\n",
            "2            2                       ...        0                           \n",
            "3            3   mdllpYmE@gmail.com  ...        0  bHquEnCbbsGLqllwryxPsNOxa\n",
            "4            4                       ...        2                           \n",
            "...        ...                  ...  ...      ...                        ...\n",
            "499995  499995                       ...        2  whJlUOGNqjxCRzmIRdURQvlNv\n",
            "499996  499996                       ...        4  JqIXOONvrwvJxZqNxCYHqnrKS\n",
            "499997  499997                       ...        2  beXCZSzcHaBwAYoDcpQqjuAFO\n",
            "499998  499998  RzSDsyH@hotmail.com  ...        1  ehjeFACGiwrERQxbziMxwOWku\n",
            "499999  499999                       ...        0  JibSBRgzYdfzkzbTuGUXrcvDX\n",
            "\n",
            "[500000 rows x 5 columns]\n"
          ],
          "name": "stdout"
        }
      ]
    },
    {
      "cell_type": "code",
      "metadata": {
        "colab": {
          "base_uri": "https://localhost:8080/",
          "height": 359
        },
        "id": "R6rDlHcmV59N",
        "outputId": "3af33aaa-2615-4dea-a620-fe9ef5e565d0"
      },
      "source": [
        "df.sort_values(by=[\"Id\"], inplace=False, ascending=False)\n",
        "df.head(10)"
      ],
      "execution_count": 51,
      "outputs": [
        {
          "output_type": "execute_result",
          "data": {
            "text/html": [
              "<div>\n",
              "<style scoped>\n",
              "    .dataframe tbody tr th:only-of-type {\n",
              "        vertical-align: middle;\n",
              "    }\n",
              "\n",
              "    .dataframe tbody tr th {\n",
              "        vertical-align: top;\n",
              "    }\n",
              "\n",
              "    .dataframe thead th {\n",
              "        text-align: right;\n",
              "    }\n",
              "</style>\n",
              "<table border=\"1\" class=\"dataframe\">\n",
              "  <thead>\n",
              "    <tr style=\"text-align: right;\">\n",
              "      <th></th>\n",
              "      <th>Id</th>\n",
              "      <th>Email</th>\n",
              "      <th>Phone</th>\n",
              "      <th>Contacts</th>\n",
              "      <th>OrderId</th>\n",
              "    </tr>\n",
              "  </thead>\n",
              "  <tbody>\n",
              "    <tr>\n",
              "      <th>0</th>\n",
              "      <td>0</td>\n",
              "      <td>gkzAbIy@qq.com</td>\n",
              "      <td></td>\n",
              "      <td>1</td>\n",
              "      <td></td>\n",
              "    </tr>\n",
              "    <tr>\n",
              "      <th>1</th>\n",
              "      <td>1</td>\n",
              "      <td></td>\n",
              "      <td>329442681752</td>\n",
              "      <td>4</td>\n",
              "      <td>vDDJJcxfLtSfkooPhbYnJdxov</td>\n",
              "    </tr>\n",
              "    <tr>\n",
              "      <th>2</th>\n",
              "      <td>2</td>\n",
              "      <td></td>\n",
              "      <td>9125983679</td>\n",
              "      <td>0</td>\n",
              "      <td></td>\n",
              "    </tr>\n",
              "    <tr>\n",
              "      <th>3</th>\n",
              "      <td>3</td>\n",
              "      <td>mdllpYmE@gmail.com</td>\n",
              "      <td></td>\n",
              "      <td>0</td>\n",
              "      <td>bHquEnCbbsGLqllwryxPsNOxa</td>\n",
              "    </tr>\n",
              "    <tr>\n",
              "      <th>4</th>\n",
              "      <td>4</td>\n",
              "      <td></td>\n",
              "      <td>300364407</td>\n",
              "      <td>2</td>\n",
              "      <td></td>\n",
              "    </tr>\n",
              "    <tr>\n",
              "      <th>5</th>\n",
              "      <td>5</td>\n",
              "      <td></td>\n",
              "      <td>840113148</td>\n",
              "      <td>0</td>\n",
              "      <td></td>\n",
              "    </tr>\n",
              "    <tr>\n",
              "      <th>6</th>\n",
              "      <td>6</td>\n",
              "      <td>hESiBgYTxMnj@hotmail.com</td>\n",
              "      <td></td>\n",
              "      <td>4</td>\n",
              "      <td></td>\n",
              "    </tr>\n",
              "    <tr>\n",
              "      <th>7</th>\n",
              "      <td>7</td>\n",
              "      <td>hqyunTiaXfIjhO@yahoo.com</td>\n",
              "      <td></td>\n",
              "      <td>1</td>\n",
              "      <td>vxjYZtMUvNhtEBDruzQfjpsmX</td>\n",
              "    </tr>\n",
              "    <tr>\n",
              "      <th>8</th>\n",
              "      <td>8</td>\n",
              "      <td>XGUjcSiDpFKWEUCs@qq.com</td>\n",
              "      <td>223604620644</td>\n",
              "      <td>2</td>\n",
              "      <td></td>\n",
              "    </tr>\n",
              "    <tr>\n",
              "      <th>9</th>\n",
              "      <td>9</td>\n",
              "      <td>osIIQgAiZX@hotmail.com</td>\n",
              "      <td></td>\n",
              "      <td>0</td>\n",
              "      <td>IqewrMXVTJqSsVklWFfOpdRNI</td>\n",
              "    </tr>\n",
              "  </tbody>\n",
              "</table>\n",
              "</div>"
            ],
            "text/plain": [
              "   Id                     Email  ... Contacts                    OrderId\n",
              "0   0            gkzAbIy@qq.com  ...        1                           \n",
              "1   1                            ...        4  vDDJJcxfLtSfkooPhbYnJdxov\n",
              "2   2                            ...        0                           \n",
              "3   3        mdllpYmE@gmail.com  ...        0  bHquEnCbbsGLqllwryxPsNOxa\n",
              "4   4                            ...        2                           \n",
              "5   5                            ...        0                           \n",
              "6   6  hESiBgYTxMnj@hotmail.com  ...        4                           \n",
              "7   7  hqyunTiaXfIjhO@yahoo.com  ...        1  vxjYZtMUvNhtEBDruzQfjpsmX\n",
              "8   8   XGUjcSiDpFKWEUCs@qq.com  ...        2                           \n",
              "9   9    osIIQgAiZX@hotmail.com  ...        0  IqewrMXVTJqSsVklWFfOpdRNI\n",
              "\n",
              "[10 rows x 5 columns]"
            ]
          },
          "metadata": {
            "tags": []
          },
          "execution_count": 51
        }
      ]
    },
    {
      "cell_type": "code",
      "metadata": {
        "id": "UwNRdDnnhPCg"
      },
      "source": [
        "df.to_csv('.csv') "
      ],
      "execution_count": 60,
      "outputs": []
    },
    {
      "cell_type": "code",
      "metadata": {
        "colab": {
          "base_uri": "https://localhost:8080/"
        },
        "id": "M1bnSt1FgbDD",
        "outputId": "0aa4aa2f-6ace-4c29-c669-8d307917d430"
      },
      "source": [
        "size = 25\n",
        "m = (2 * size) - 2\n",
        "for i in range(0, size):\n",
        "    for j in range(0, m):\n",
        "        print(end=' ')\n",
        "    m = m - 1\n",
        "    for j in range(0, i + 1):\n",
        "        print('*', end=' ')\n",
        "    print()"
      ],
      "execution_count": 59,
      "outputs": [
        {
          "output_type": "stream",
          "text": [
            "                                                * \n",
            "                                               * * \n",
            "                                              * * * \n",
            "                                             * * * * \n",
            "                                            * * * * * \n",
            "                                           * * * * * * \n",
            "                                          * * * * * * * \n",
            "                                         * * * * * * * * \n",
            "                                        * * * * * * * * * \n",
            "                                       * * * * * * * * * * \n",
            "                                      * * * * * * * * * * * \n",
            "                                     * * * * * * * * * * * * \n",
            "                                    * * * * * * * * * * * * * \n",
            "                                   * * * * * * * * * * * * * * \n",
            "                                  * * * * * * * * * * * * * * * \n",
            "                                 * * * * * * * * * * * * * * * * \n",
            "                                * * * * * * * * * * * * * * * * * \n",
            "                               * * * * * * * * * * * * * * * * * * \n",
            "                              * * * * * * * * * * * * * * * * * * * \n",
            "                             * * * * * * * * * * * * * * * * * * * * \n",
            "                            * * * * * * * * * * * * * * * * * * * * * \n",
            "                           * * * * * * * * * * * * * * * * * * * * * * \n",
            "                          * * * * * * * * * * * * * * * * * * * * * * * \n",
            "                         * * * * * * * * * * * * * * * * * * * * * * * * \n",
            "                        * * * * * * * * * * * * * * * * * * * * * * * * * \n"
          ],
          "name": "stdout"
        }
      ]
    },
    {
      "cell_type": "code",
      "metadata": {
        "colab": {
          "base_uri": "https://localhost:8080/"
        },
        "id": "gXw7j9VhfiIH",
        "outputId": "8949e367-2ca3-4ac5-d7c4-995d85cc3d4e"
      },
      "source": [
        "x = 10\n",
        "while x >= 0:\n",
        "  x -= 1\n",
        "  print(\"I dont have the answer on stackOverflow\")\n"
      ],
      "execution_count": 54,
      "outputs": [
        {
          "output_type": "stream",
          "text": [
            "I dont have the answer on stackOverflow\n",
            "I dont have the answer on stackOverflow\n",
            "I dont have the answer on stackOverflow\n",
            "I dont have the answer on stackOverflow\n",
            "I dont have the answer on stackOverflow\n",
            "I dont have the answer on stackOverflow\n",
            "I dont have the answer on stackOverflow\n",
            "I dont have the answer on stackOverflow\n",
            "I dont have the answer on stackOverflow\n",
            "I dont have the answer on stackOverflow\n",
            "I dont have the answer on stackOverflow\n"
          ],
          "name": "stdout"
        }
      ]
    }
  ]
}